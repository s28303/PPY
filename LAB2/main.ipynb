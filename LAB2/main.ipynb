{
  "cells": [
    {
      "cell_type": "markdown",
      "metadata": {
        "id": "vWgiVDOhNaoM"
      },
      "source": [
        "Warning:\n",
        "\n",
        "After each exercise from now on, do a git commit and write in a message what you did."
      ]
    },
    {
      "cell_type": "markdown",
      "metadata": {
        "id": "PspxMdWBgq0E"
      },
      "source": [
        "3.\n",
        "Write a Python program that takes input from the user to create a list of integers and then performs the following operations:\n",
        "\n",
        "  a. Input: Ask the user to enter a series of space-separated integers.\n",
        "\n",
        "  b. Convert Input: Convert the input string into a list of integers.\n",
        "  \n",
        "  c. Sorting: Sort the list in ascending order.\n",
        "\n",
        "  example:\n",
        "  ```\n",
        "  Enter a series of space-separated integers: 5 2 8 1 9\n",
        "\n",
        "  Sorted list: [1, 2, 5, 8, 9]\n",
        "  ```\n"
      ]
    },
    {
      "cell_type": "code",
      "execution_count": 8,
      "metadata": {
        "id": "AI_-8VGKh7rA"
      },
      "outputs": [
        {
          "name": "stdout",
          "output_type": "stream",
          "text": [
            "Sorted list: [1, 2, 5, 8, 9]\n"
          ]
        }
      ],
      "source": [
        "# Input\n",
        "input_numbers = input(\"Enter a series of space-separated integers: \")\n",
        "\n",
        "# Convert Input:\n",
        "converted_input = [int(x) for x in input_numbers.split(\" \")]\n",
        "\n",
        "# Sorting:\n",
        "numbers_list = sorted(converted_input)\n",
        "\n",
        "# Print Output\n",
        "print(\"Sorted list:\", numbers_list)"
      ]
    },
    {
      "cell_type": "markdown",
      "metadata": {
        "id": "i3SZ_u9yl9aa"
      },
      "source": [
        "-----------------------------------------------------------------------------\n",
        "\n",
        "Difference between Lists and Tuples:\n",
        "\n",
        "Lists are mutable, meaning their elements can be changed after creation, while tuples are immutable, meaning their elements cannot be changed after creation.\n",
        "Lists are represented by square brackets [ ], whereas tuples are represented by parentheses ( ).\n",
        "Lists have methods like append(), insert(), and remove() to modify the list, while tuples do not support such methods due to their immutability.\n",
        "Lists are typically used when the elements need to be modified or updated frequently, while tuples are used when the data is meant to be constant or unchangeable.\n",
        "\n",
        "-----------------------------------------------------------------------------\n"
      ]
    },
    {
      "cell_type": "markdown",
      "metadata": {
        "id": "s3dGdHFnmHGE"
      },
      "source": [
        "4.\n",
        "Extend the previous Python program to include tuples. Now, in addition to creating a list of integers from user input, the program should also create a tuple of those integers and perform the following operations:\n",
        "\n",
        "  a. Input: Ask the user to enter a series of space-separated integers.\n",
        "\n",
        "  b. Convert Input: Convert the input string into a list of integers and a tuple of integers.\n",
        "\n",
        "  c. Sorting: Sort both the list and the tuple in ascending order.\n",
        "\n",
        "  d. Print Output: Print the sorted list and tuple.\n",
        "\n",
        "  example:\n",
        "  ```\n",
        "  Enter a series of space-separated integers: 5 2 8 1 9\n",
        "  \n",
        "  Sorted list: [1, 2, 5, 8, 9]\n",
        "  Sorted tuple: (1, 2, 5, 8, 9)\n",
        "  ```\n"
      ]
    },
    {
      "cell_type": "code",
      "execution_count": 9,
      "metadata": {
        "id": "5hm5uHjjl-wZ"
      },
      "outputs": [
        {
          "name": "stdout",
          "output_type": "stream",
          "text": [
            "Sorted list: [1, 2, 5, 8, 9]\n",
            "Sorted tuple: (1, 2, 5, 8, 9)\n"
          ]
        }
      ],
      "source": [
        "# Input\n",
        "input_numbers = input(\"Enter a series of space-separated integers: \")\n",
        "\n",
        "# Convert Input:\n",
        "converted_input_list = [int(x) for x in input_numbers.split(\" \")]\n",
        "converted_input_tuple = tuple(converted_input_list)\n",
        "\n",
        "# Sorting:\n",
        "numbers_list = sorted(converted_input)\n",
        "sorted_tuple = tuple(sorted(converted_input_tuple))\n",
        "\n",
        "# Print Output\n",
        "print(\"Sorted list:\", numbers_list)\n",
        "print(\"Sorted tuple:\", sorted_tuple)"
      ]
    },
    {
      "cell_type": "markdown",
      "metadata": {
        "id": "ys8cK-cdqIk7"
      },
      "source": [
        "5.\n",
        "Extend the previous Python program to demonstrate the manipulation of lists using the append(), insert(), and remove() functions, and to emphasize the immutability of tuples.\n",
        "\n",
        "  a. Input: Ask the user to enter a series of space-separated integers.\n",
        "\n",
        "  b. Convert Input: Convert the input string into a list of integers and a tuple of integers.\n",
        "  \n",
        "  c. Manipulate List: Use the append(), insert(), and remove() functions to modify the list.\n",
        "  \n",
        "  d. Attempt to Modify Tuple: Try to modify the tuple using the same operations as the list.\n",
        "  \n",
        "  e. Print Output: Print the modified list and attempt to print the modified tuple.\n",
        "\n",
        "  example:\n",
        "  ```\n",
        "  Enter a series of space-separated integers: 5 2 8 1 9\n",
        "\n",
        "  Tuples are immutable and cannot be modified.\n",
        "  Modified list: [5, 2, 20, 1, 9, 10]\n",
        "  Tuple remains unchanged: (5, 2, 8, 1, 9)\n",
        "  ```"
      ]
    },
    {
      "cell_type": "code",
      "execution_count": 10,
      "metadata": {
        "id": "u8ATNzGWqT0H"
      },
      "outputs": [
        {
          "name": "stdout",
          "output_type": "stream",
          "text": [
            "Tuples are immutable and cannot be modified.\n",
            "Modified list: [5, 2, 20, 20, 8, 1, 9]\n",
            "Tuple remains unchanged: (5, 2, 8, 1, 9)\n"
          ]
        }
      ],
      "source": [
        "# Input\n",
        "input_numbers = input(\"Enter a series of space-separated integers: \")\n",
        "\n",
        "# Convert Input\n",
        "numbers_list = [int(x) for x in input_numbers.split(\" \")]\n",
        "numbers_tuple = tuple(converted_input_list)\n",
        "\n",
        "# Manipulate List\n",
        "#   Append 10 to the list\n",
        "numbers_list.append(10)\n",
        "#   Insert 20 at index 2\n",
        "numbers_list.insert(2, 20)\n",
        "#   Remove one elementfrom the list\n",
        "numbers_list.remove(10)\n",
        "\n",
        "# Attempt to Modify Tuple (this will raise an error)\n",
        "try:\n",
        "    #   Append 10 to the tuple\n",
        "    numbers_tuple.append(10)\n",
        "except AttributeError:\n",
        "    print(\"Tuples are immutable and cannot be modified.\")\n",
        "try:\n",
        "    #   Insert 20 at index 2\n",
        "    numbers_list.insert(2, 20)\n",
        "except AttributeError:\n",
        "    pass  # Insert operation will also raise an error\n",
        "try:\n",
        "    #   Remove one element  from the tuple\n",
        "    numbers_tuple.append(10)\n",
        "except AttributeError:\n",
        "    pass  # Remove operation will also raise an error\n",
        "\n",
        "# Print Output\n",
        "print(\"Modified list:\", numbers_list)\n",
        "print(\"Tuple remains unchanged:\", numbers_tuple)"
      ]
    },
    {
      "cell_type": "markdown",
      "metadata": {
        "id": "IMGqb8VoxwOv"
      },
      "source": [
        "--------------------------------------------------------------------------------\n",
        "1. **Set**:\n",
        "A set in Python is a collection of unique elements that are unordered. This means that you cannot access elements by indices, and the elements are stored in an unordered manner. The main feature of a set is that each element in the set must be unique. Sets are useful when you want to perform set operations, such as mathematical set operations (e.g., union, difference, intersection).\n",
        "\n",
        "Example of creating a set:\n",
        "```python\n",
        "set = {1, 2, 3, 4, 5}  # Creating a set\n",
        "print(set)  # Displaying the set\n",
        "```\n",
        "\n",
        "2. **Dictionary**:\n",
        "A dictionary in Python is a collection of key-value pairs, where each key is unique. Dictionaries are unique in the sense that they allow us to associate specific values with specific keys, making it easy to retrieve values by referring to their corresponding keys. Dictionaries are very useful when you want to store data in the form of key-value pairs, such as dictionary definitions, test scores, survey results, etc.\n",
        "\n",
        "Example of creating a dictionary:\n",
        "```python\n",
        "dictionary = {\"key1\": \"value1\", \"key2\": \"value2\", \"key3\": \"value3\"}  # Creating a dictionary\n",
        "print(dictionary)  # Displaying the dictionary\n",
        "```\n",
        "It's important to remember that both in sets and dictionaries, keys (in the case of dictionaries) and elements (in the case of sets) must be hashable, meaning they must be immutable (e.g., numbers, strings, tuples), and they must have a defined hashing method.\n",
        "\n",
        "--------------------------------------------------------------------------------"
      ]
    },
    {
      "cell_type": "markdown",
      "metadata": {
        "id": "PD4Fhykxx1w6"
      },
      "source": [
        "6.\n",
        "Additionally, introduce sets and dictionaries and perform basic operations on them.\n",
        "\n",
        "  a. ...\n",
        "\n",
        "  b. ...\n",
        "\n",
        "  c. ...\n",
        "\n",
        "  d. ...\n",
        "\n",
        "  e. Set Operations: Perform union, intersection, and difference operations on the set.\n",
        "\n",
        "  f. Dictionary Operations: Print the dictionary, add a new key-value pair, and delete an existing key-value pair.\n",
        "\n",
        "  g. Print Output: Print the modified list, unchanged tuple, set operations results, and updated dictionary.\n",
        "\n",
        "  example:\n",
        "  ```\n",
        "  Enter a series of space-separated integers: 5 2 8 1 9\n",
        "\n",
        "  Tuples are immutable and cannot be modified.\n",
        "  Original Dictionary: {5: 25, 2: 4, 8: 64, 1: 1, 9: 81}\n",
        "  Modified list: [5, 2, 20, 1, 9, 10]\n",
        "  Tuple remains unchanged: (5, 2, 8, 1, 9)\n",
        "  Union of set: {1, 2, 5, 9, 10, 11, 12}\n",
        "  Intersection of set: {8, 5}\n",
        "  Difference of set: {9}\n",
        "  Updated Dictionary: {5: 25, 2: 4, 1: 1, 9: 81, 11: 121}\n",
        "\n",
        "  ```\n",
        "\n"
      ]
    },
    {
      "cell_type": "code",
      "execution_count": 11,
      "metadata": {
        "id": "AwRmtngJzAZI"
      },
      "outputs": [
        {
          "name": "stdout",
          "output_type": "stream",
          "text": [
            "Tuples are immutable and cannot be modified.\n",
            "Original Dictionary: {5: 25, 2: 4, 8: 64, 1: 1, 9: 81}\n",
            "Modified list: [5, 2, 20, 1, 9, 10]\n",
            "Tuple remains unchanged: (5, 2, 8, 1, 9)\n",
            "Union of set: {1, 2, 5, 6, 8, 9, 56, 124}\n",
            "Intersection of set: {8, 5}\n",
            "Difference of set: {1, 2, 9}\n",
            "Updated Dictionary: {2: 4, 8: 64, 1: 1, 9: 81, 10: 100}\n"
          ]
        }
      ],
      "source": [
        "# Input\n",
        "input_numbers = input(\"Enter a series of space-separated integers: \")\n",
        "\n",
        "# Convert Input\n",
        "numbers_list = [int(x) for x in input_numbers.split(\" \")]\n",
        "numbers_tuple = tuple(numbers_list)\n",
        "numbers_set = set(numbers_list)\n",
        "numbers_dict = {n: n**2 for n in numbers_list}\n",
        "\n",
        "# Manipulate List\n",
        "# Append 10 to the list\n",
        "numbers_list.append(10)\n",
        "# Insert 20 at index 2\n",
        "numbers_list.insert(2, 20)\n",
        "# Remove the element 8\n",
        "numbers_list.remove(8)\n",
        "\n",
        "# Attempt to Modify Tuple (this will raise an error)\n",
        "try:\n",
        "    # Append 10 to the tuple\n",
        "    numbers_tuple.append(10)\n",
        "\n",
        "except AttributeError:\n",
        "    print(\"Tuples are immutable and cannot be modified.\")\n",
        "\n",
        "# Set Operations\n",
        "# Union\n",
        "extra_set = {124, 56, 6, 8, 5}\n",
        "set_union = numbers_set.union(extra_set)\n",
        "# Intersection\n",
        "set_intersection =  numbers_set.intersection(extra_set)\n",
        "# Difference\n",
        "set_difference = numbers_set.difference(extra_set)\n",
        "\n",
        "\n",
        "# Dictionary Operations\n",
        "print(\"Original Dictionary:\", numbers_dict)\n",
        "# Add a new key-value pair\n",
        "numbers_dict[10] = 100\n",
        "# Delete an existing key-value pair\n",
        "del numbers_dict[5]\n",
        "\n",
        "# Print Output\n",
        "print(\"Modified list:\", numbers_list)\n",
        "print(\"Tuple remains unchanged:\", numbers_tuple)\n",
        "print(\"Union of set:\", set_union)\n",
        "print(\"Intersection of set:\", set_intersection)\n",
        "print(\"Difference of set:\", set_difference)\n",
        "print(\"Updated Dictionary:\", numbers_dict)"
      ]
    },
    {
      "cell_type": "markdown",
      "metadata": {
        "id": "N0xlv8oD2aXa"
      },
      "source": [
        "7. **Built-in Types and Type Conversion**\n",
        "\n",
        "  Extend the previous Python program to demonstrate the use of built-in types and type conversion. Perform the following operations:\n",
        "\n",
        "  a. ...\n",
        "\n",
        "  b. ...\n",
        "\n",
        "  c. ...\n",
        "\n",
        "  d. ...\n",
        "\n",
        "  e. ...\n",
        "\n",
        "  f. ...\n",
        "\n",
        "  g. Type Conversion: Convert the list to a tuple, set, and dictionary. Convert the tuple to a list, set, and dictionary. Convert the set to a list, tuple, and dictionary. Convert the dictionary to a list, tuple, and set.\n",
        "\n",
        "  h. Print Output: Print the results of the type conversion operations.\n",
        "\n",
        "  example:\n",
        "  ```\n",
        "  Enter a series of space-separated integers: 5 2 8 1 9\n",
        "\n",
        "  Tuples are immutable and cannot be modified.\n",
        "  Original Dictionary: {5: 25, 2: 4, 8: 64, 1: 1, 9: 81}\n",
        "  List to Tuple: (5, 2, 20, 1, 9, 10)\n",
        "  List to Set: {1, 2, 5, 9, 10, 20}\n",
        "  List to Dictionary: {5: 25, 2: 4, 20: 400, 1: 1, 9: 81, 10: 100}\n",
        "  Tuple to List: [5, 2, 8, 1, 9]\n",
        "  Tuple to Set: {1, 2, 5, 8, 9}\n",
        "  Tuple to Dictionary: {5: 25, 2: 4, 8: 64, 1: 1, 9: 81}\n",
        "  Set to List: [1, 2, 5, 9, 10, 20]\n",
        "  Set to Tuple: (1, 2, 5, 9, 10, 20)\n",
        "  Set to Dictionary: {1: 1, 2: 4, 5: 25, 9: 81, 10: 100, 20: 400}\n",
        "  Dictionary to List: [5, 2, 20, 1, 9, 10, 11]\n",
        "  Dictionary to Tuple: (5, 2, 20, 1, 9, 10, 11)\n",
        "  Dictionary to Set: {1, 2, 5, 9, 10, 11, 20}\n",
        "```"
      ]
    },
    {
      "cell_type": "code",
      "execution_count": 14,
      "metadata": {
        "id": "-NzD4x_n31Rv"
      },
      "outputs": [
        {
          "name": "stdout",
          "output_type": "stream",
          "text": [
            "Tuples are immutable and cannot be modified.\n",
            "Original Dictionary: {5: 25, 2: 4, 8: 64, 1: 1, 9: 81}\n",
            "List to Tuple: (5, 2, 20, 1, 9, 10)\n",
            "List to Set: {1, 2, 5, 9, 10, 20}\n",
            "Tuple to List: [5, 2, 8, 1, 9]\n",
            "Tuple to Set: {1, 2, 5, 8, 9}\n",
            "Set to List: [1, 2, 5, 8, 9]\n",
            "Set to Tuple: (1, 2, 5, 8, 9)\n",
            "Dictionary to List: [2, 8, 1, 9, 10]\n",
            "Dictionary to Tuple: (2, 8, 1, 9, 10)\n",
            "Dictionary to Set: {1, 2, 5, 8, 9}\n"
          ]
        }
      ],
      "source": [
        "# Input\n",
        "input_numbers = input(\"Enter a series of space-separated integers: \")\n",
        "\n",
        "# Convert Input\n",
        "numbers_list = [int(x) for x in input_numbers.split(\" \")]\n",
        "numbers_tuple = tuple(numbers_list)\n",
        "numbers_set = set(numbers_list)\n",
        "numbers_dict = {n: n**2 for n in numbers_list}\n",
        "\n",
        "# Manipulate List\n",
        "# Append 10 to the list\n",
        "numbers_list.append(10)\n",
        "# Insert 20 at index 2\n",
        "numbers_list.insert(2, 20)\n",
        "# Remove the element 8\n",
        "numbers_list.remove(8)\n",
        "\n",
        "# Attempt to Modify Tuple (this will raise an error)\n",
        "try:\n",
        "    # Append 10 to the tuple\n",
        "    numbers_tuple.append(10)\n",
        "\n",
        "except AttributeError:\n",
        "    print(\"Tuples are immutable and cannot be modified.\")\n",
        "\n",
        "# Set Operations\n",
        "# Union\n",
        "extra_set = {124, 56, 6, 8, 5}\n",
        "set_union = numbers_set.union(extra_set)\n",
        "# Intersection\n",
        "set_intersection =  numbers_set.intersection(extra_set)\n",
        "# Difference\n",
        "set_difference = numbers_set.difference(extra_set)\n",
        "\n",
        "# Dictionary Operations\n",
        "print(\"Original Dictionary:\", numbers_dict)\n",
        "# Add a new key-value pair\n",
        "numbers_dict[10] = 100\n",
        "# Delete an existing key-value pair\n",
        "del numbers_dict[5]\n",
        "\n",
        "# Type Conversion\n",
        "list_to_tuple = tuple(numbers_list)\n",
        "list_to_set = set(numbers_list)\n",
        "# list_to_dict = dict(numbers_list)\n",
        "tuple_to_list = list(numbers_tuple)\n",
        "tuple_to_set = set(numbers_tuple)\n",
        "# tuple_to_dict = dict(numbers_tuple)\n",
        "set_to_list = list(numbers_set)\n",
        "set_to_tuple = tuple(numbers_set)\n",
        "# set_to_dict = dict(numbers_set)\n",
        "dict_to_list = list(numbers_dict)\n",
        "dict_to_tuple = tuple(numbers_dict)\n",
        "dict_to_set = set(numbers_set)\n",
        "\n",
        "# Print Output\n",
        "print(\"List to Tuple:\", list_to_tuple)\n",
        "print(\"List to Set:\", list_to_set)\n",
        "# print(\"List to Dictionary:\", list_to_dict)\n",
        "print(\"Tuple to List:\", tuple_to_list)\n",
        "print(\"Tuple to Set:\", tuple_to_set)\n",
        "# print(\"Tuple to Dictionary:\", tuple_to_dict)\n",
        "print(\"Set to List:\", set_to_list)\n",
        "print(\"Set to Tuple:\", set_to_tuple)\n",
        "# print(\"Set to Dictionary:\", set_to_dict)\n",
        "print(\"Dictionary to List:\", dict_to_list)\n",
        "print(\"Dictionary to Tuple:\", dict_to_tuple)\n",
        "print(\"Dictionary to Set:\", dict_to_set)"
      ]
    },
    {
      "cell_type": "markdown",
      "metadata": {
        "id": "KVn_MxPh6gNz"
      },
      "source": [
        "8.\n",
        "Extend the previous Python program to write the output to a file and perform operations on that file.\n",
        "\n",
        "  a. ...\n",
        "\n",
        "  b. ...\n",
        "\n",
        "  c. ...\n",
        "\n",
        "  d. ...\n",
        "\n",
        "  e. ...\n",
        "\n",
        "  f. ...\n",
        "\n",
        "  g. ...\n",
        "\n",
        "  h. Write Output to File: Write all the results (original inputs, modified data structures, type conversion results) to a file.\n",
        "\n",
        "  i. Perform Operations on File: Open the file, read its content, and perform some operations like counting the number of lines, finding specific data, etc.\n",
        "\n",
        "  j. Modify File Content: Modify the content of the file by, for example, changing specific lines or adding new lines."
      ]
    },
    {
      "cell_type": "code",
      "execution_count": null,
      "metadata": {
        "id": "d54la3il7LNS"
      },
      "outputs": [],
      "source": [
        "# Input\n",
        "input_numbers = input(\"Enter a series of space-separated integers: \")\n",
        "\n",
        "# Convert Input\n",
        "\n",
        "# Manipulate List\n",
        "\n",
        "# Attempt to Modify Tuple (this will raise an error)\n",
        "\n",
        "# Set Operations\n",
        "\n",
        "# Dictionary Operations\n",
        "\n",
        "# Type Conversion\n",
        "\n",
        "student_number = input(\"Enter your student number: \")\n",
        "\n",
        "# Write Output to File like this:\n",
        "    \"Student Number: \" + student_number\n",
        "\n",
        "    \"Original List: \" + str(numbers_list)\n",
        "    \"Original Tuple: \" + str(numbers_tuple)\n",
        "    \"Original Set: \" + str(numbers_set)\n",
        "    \"Original Dictionary: \" + str(numbers_dict)\n",
        "\n",
        "    \"Manipulated List: \" + str(numbers_list)\n",
        "    \"Manipulated Tuple: \" + str(numbers_tuple)\n",
        "    \"Union of Set: \" + str(set_union)\n",
        "    \"Intersection of Set: \" + str(set_intersection)\n",
        "    \"Difference of Set: \" + str(set_difference)\n",
        "    \"Updated Dictionary: \" + str(numbers_dict)\n",
        "\n",
        "    \"List to Tuple: \" + str(list_to_tuple)\n",
        "    \"List to Set: \" + str(list_to_set)\n",
        "    \"List to Dictionary: \" + str(list_to_dict)\n",
        "    \"Tuple to List: \" + str(tuple_to_list)\n",
        "    \"Tuple to Set: \" + str(tuple_to_set)\n",
        "    \"Tuple to Dictionary: \" + str(tuple_to_dict)\n",
        "    \"Set to List: \" + str(set_to_list)\n",
        "    \"Set to Tuple: \" + str(set_to_tuple)\n",
        "    \"Set to Dictionary: \" + str(set_to_dict)\n",
        "    \"Dictionary to List: \" + str(dict_to_list)\n",
        "    \"Dictionary to Tuple: \" + str(dict_to_tuple)\n",
        "    \"Dictionary to Set: \" + str(dict_to_set)\n",
        "\n",
        "# print \"Content of the file:\"\n",
        "\n",
        "# Perform Operations on File:\n",
        "#   Count the number of lines in the file\n",
        "#   Count the number of integers in the file\n",
        "#   Add all integers in the file (sum).\n",
        "#   Modify the content of the file\n",
        "\n"
      ]
    },
    {
      "cell_type": "markdown",
      "metadata": {
        "id": "kDx3mxAgD2L7"
      },
      "source": [
        "--------------------------------------------------------------------------------\n",
        "**Control Statements:**\n",
        "Control statements are used in programming to alter the flow of execution based on certain conditions or criteria. In Python, commonly used control statements include:\n",
        "\n",
        "`if, elif, else:` These statements are used for conditional execution. They allow the program to execute different blocks of code based on specified conditions.\n",
        "\n",
        "`for loop:` Used for iterating over a sequence (such as lists, tuples, strings, etc.) or any iterable object. It allows you to execute a block of code repeatedly for each item in the sequence.\n",
        "\n",
        "`while loop:` Used for executing a block of code repeatedly as long as a specified condition is true. It keeps iterating until the condition becomes false.\n",
        "\n",
        "\n",
        "**Loops:**\n",
        "Loops are used for executing a block of code repeatedly. In Python, there are two main types of loops:\n",
        "\n",
        "`for loop: `As mentioned earlier, the for loop iterates over a sequence or any iterable object.\n",
        "\n",
        "`while loop:` This loop executes a block of code as long as a specified condition is true. It continues iterating until the condition becomes false.\n",
        "\n",
        "**Other Statements:**\n",
        "This category typically includes other types of statements that don't fall directly under control statements or loops. It can include various types of statements used for different purposes in Python programming, such as:\n",
        "\n",
        "`Assignment statements:` Assigning values to variables.\n",
        "\n",
        "`Function calls:` Invoking functions to perform specific tasks.\n",
        "\n",
        "`Import statements:` Importing modules or packages to use their functionality in the current script or program.\n",
        "\n",
        "`Exception handling statements: `Statements used for handling exceptions (errors) that may occur during the execution of a program, such as try, except, finally, etc.\n",
        "\n",
        "`With statements: `Used for resource management, especially for working with files, to ensure that certain resources are properly closed or released after use.\n",
        "\n",
        "These are fundamental constructs in Python programming that enable you to control the flow of your program, repeat tasks efficiently, and execute various types of statements to achieve desired functionality.\n",
        "\n",
        "-------------------------------------------------------------------------------"
      ]
    },
    {
      "cell_type": "markdown",
      "metadata": {
        "id": "pWC3IYevHysh"
      },
      "source": [
        "9.  Utilizing the Largest Integer from output.txt\n",
        "\n",
        "  Task Description:\n",
        "\n",
        "  Transform the previous task to utilize the largest integer from the output file 'output.txt' instead of asking the user for it.\n",
        "\n",
        "  1. Read the largest integer from the 'output.txt' file.\n",
        "  2. Generate a list of all prime numbers up to the largest integer.\n",
        "  3. Print the list of prime numbers.\n",
        "  4. Calculate the sum of all prime numbers in the list.\n",
        "  5. Determine the largest and smallest prime numbers in the list.\n",
        "  6. Check if the largest integer itself is prime and print the result.\n",
        "  7. Write the list of prime numbers along with the sum, largest, and smallest prime numbers to a file 'prime_numbers.txt'.\n",
        "  8. Handle the scenario where the largest integer cannot be found in the file.\n",
        "\n",
        "  Example:\n",
        "\n",
        "  If the 'output.txt' file contains:\n",
        "  Largest prime number: 20\n",
        "\n",
        "  The program will generate the list of prime numbers up to 20, perform calculations, and write the results to 'prime_numbers.txt'.\n"
      ]
    },
    {
      "cell_type": "code",
      "execution_count": null,
      "metadata": {
        "id": "-Lz65OTiM7ds"
      },
      "outputs": [],
      "source": []
    },
    {
      "cell_type": "markdown",
      "metadata": {
        "id": "V5bxEjZFNCAA"
      },
      "source": [
        "10.\n",
        "In the final main.ipynb file, leave the results from task 8 and 9, commit and push"
      ]
    }
  ],
  "metadata": {
    "colab": {
      "provenance": []
    },
    "kernelspec": {
      "display_name": "Python 3",
      "name": "python3"
    },
    "language_info": {
      "codemirror_mode": {
        "name": "ipython",
        "version": 3
      },
      "file_extension": ".py",
      "mimetype": "text/x-python",
      "name": "python",
      "nbconvert_exporter": "python",
      "pygments_lexer": "ipython3",
      "version": "3.11.4"
    }
  },
  "nbformat": 4,
  "nbformat_minor": 0
}
